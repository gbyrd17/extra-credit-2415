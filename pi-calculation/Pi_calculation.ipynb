{
 "cells": [
  {
   "cell_type": "markdown",
   "metadata": {},
   "source": [
    "# Calculating Pi to the 100th digit\n",
    "***\n",
    "### Graham Byrd \n",
    "### 5/3/2022\n",
    "***\n",
    "\n",
    "I'm going to employ the [Chudnovsky Algorithm](https://en.wikipedia.org/wiki/Chudnovsky_algorithm) to find the 100th digit of pi.\n",
    "\n",
    "This will be done in Python since I wont be working with arrays all that much and just need some for loops"
   ]
  },
  {
   "cell_type": "code",
   "execution_count": 30,
   "metadata": {},
   "outputs": [],
   "source": [
    "from decimal import Decimal as dec \n",
    "from decimal import getcontext\n",
    "import numpy as np"
   ]
  },
  {
   "cell_type": "markdown",
   "metadata": {},
   "source": [
    "## Doing the Math\n",
    "***\n",
    "Our formula is:\n",
    "\n",
    "${\\displaystyle {\\frac {1}{\\pi }}=12\\sum _{q=0}^{\\infty }{\\frac {(-1)^{q}(6q)!(545140134q+13591409)}{(3q)!(q!)^{3}\\left(640320\\right)^{3q+{\\frac {3}{2}}}}}}$\n",
    "\n",
    "But we will be using what the wikipedia page calls the \"high performance iterative implementation\":\n",
    "\n",
    "${\\displaystyle \\pi =C\\left(\\sum _{q=0}^{\\infty }{\\frac {M_{q}\\cdot L_{q}}{X_{q}}}\\right)^{-1}}$"
   ]
  },
  {
   "cell_type": "code",
   "execution_count": null,
   "metadata": {},
   "outputs": [],
   "source": []
  },
  {
   "cell_type": "code",
   "execution_count": 41,
   "metadata": {},
   "outputs": [
    {
     "ename": "TypeError",
     "evalue": "unsupported operand type(s) for /: 'decimal.Decimal' and 'float'",
     "output_type": "error",
     "traceback": [
      "\u001b[1;31m---------------------------------------------------------------------------\u001b[0m",
      "\u001b[1;31mTypeError\u001b[0m                                 Traceback (most recent call last)",
      "\u001b[1;32mUntitled-1.ipynb Cell 4'\u001b[0m in \u001b[0;36m<cell line: 17>\u001b[1;34m()\u001b[0m\n\u001b[0;32m     <a href='vscode-notebook-cell:Untitled-1.ipynb?jupyter-notebook#ch0000006untitled?line=13'>14</a>\u001b[0m     pi \u001b[39m=\u001b[39m C\u001b[39m/\u001b[39msummation\n\u001b[0;32m     <a href='vscode-notebook-cell:Untitled-1.ipynb?jupyter-notebook#ch0000006untitled?line=14'>15</a>\u001b[0m     \u001b[39mreturn\u001b[39;00m pi\n\u001b[1;32m---> <a href='vscode-notebook-cell:Untitled-1.ipynb?jupyter-notebook#ch0000006untitled?line=16'>17</a>\u001b[0m pi \u001b[39m=\u001b[39m getpi(\u001b[39m100\u001b[39;49m)\n\u001b[0;32m     <a href='vscode-notebook-cell:Untitled-1.ipynb?jupyter-notebook#ch0000006untitled?line=18'>19</a>\u001b[0m picheck \u001b[39m=\u001b[39m dec(\u001b[39m3.1415926535897932384626433832795028841971693993751058209749445923078164062862089986280348253421170679\u001b[39m)\n\u001b[0;32m     <a href='vscode-notebook-cell:Untitled-1.ipynb?jupyter-notebook#ch0000006untitled?line=20'>21</a>\u001b[0m \u001b[39mif\u001b[39;00m pi \u001b[39m==\u001b[39m picheck:\n",
      "\u001b[1;32mUntitled-1.ipynb Cell 4'\u001b[0m in \u001b[0;36mgetpi\u001b[1;34m(q)\u001b[0m\n\u001b[0;32m     <a href='vscode-notebook-cell:Untitled-1.ipynb?jupyter-notebook#ch0000006untitled?line=10'>11</a>\u001b[0m     K \u001b[39m+\u001b[39m\u001b[39m=\u001b[39m \u001b[39m12\u001b[39m\n\u001b[0;32m     <a href='vscode-notebook-cell:Untitled-1.ipynb?jupyter-notebook#ch0000006untitled?line=11'>12</a>\u001b[0m     M \u001b[39m*\u001b[39m\u001b[39m=\u001b[39m (K\u001b[39m*\u001b[39m\u001b[39m*\u001b[39m\u001b[39m3\u001b[39m\u001b[39m-\u001b[39m\u001b[39m16\u001b[39m\u001b[39m*\u001b[39mK)\u001b[39m/\u001b[39m((n\u001b[39m+\u001b[39m\u001b[39m1\u001b[39m)\u001b[39m*\u001b[39m\u001b[39m*\u001b[39m\u001b[39m3\u001b[39m)\n\u001b[1;32m---> <a href='vscode-notebook-cell:Untitled-1.ipynb?jupyter-notebook#ch0000006untitled?line=12'>13</a>\u001b[0m     summation \u001b[39m+\u001b[39m\u001b[39m=\u001b[39m dec(M\u001b[39m*\u001b[39;49mL) \u001b[39m/\u001b[39;49m X\n\u001b[0;32m     <a href='vscode-notebook-cell:Untitled-1.ipynb?jupyter-notebook#ch0000006untitled?line=13'>14</a>\u001b[0m pi \u001b[39m=\u001b[39m C\u001b[39m/\u001b[39msummation\n\u001b[0;32m     <a href='vscode-notebook-cell:Untitled-1.ipynb?jupyter-notebook#ch0000006untitled?line=14'>15</a>\u001b[0m \u001b[39mreturn\u001b[39;00m pi\n",
      "\u001b[1;31mTypeError\u001b[0m: unsupported operand type(s) for /: 'decimal.Decimal' and 'float'"
     ]
    }
   ],
   "source": [
    "# def getpi(q):\n",
    "#     C = 426880 * dec(10005).sqrt()\n",
    "#     L = 13591409    # initialize constant part of var so we can iterate and get our numbers during loop\n",
    "#     X = 1.          # these are the x0, k0, and m0 values that are shown in the wikipedia article\n",
    "#     K = -6.\n",
    "#     M = 1.\n",
    "#     summation = 1\n",
    "#     for n in range(q):\n",
    "#         L += 545140134\n",
    "#         X *= -262537412640768000\n",
    "#         K += 12\n",
    "#         M *= (K**3-16*K)/((n+1)**3)\n",
    "#         summation += dec(M*L) / X\n",
    "#     pi = C/summation\n",
    "#     return pi\n",
    "#         \n",
<<<<<<< HEAD
    "# pi = getpi(100)"
=======
    "# pi = getpi(100)\n",
>>>>>>> 8711bf94e2a026c78d27004b3c1e39e0e1b2ccd6
   ]
  }
 ],
 "metadata": {
  "interpreter": {
   "hash": "b3ffd53a5b4e746cd94ec18e5469107de2789dfc093669a8f0fc5fc2f78721e3"
  },
  "kernelspec": {
   "display_name": "Python 3.10.4 64-bit (windows store)",
   "language": "python",
   "name": "python3"
  },
  "language_info": {
   "codemirror_mode": {
    "name": "ipython",
    "version": 3
   },
   "file_extension": ".py",
   "mimetype": "text/x-python",
   "name": "python",
   "nbconvert_exporter": "python",
   "pygments_lexer": "ipython3",
   "version": "3.10.4"
  },
  "orig_nbformat": 4
 },
 "nbformat": 4,
 "nbformat_minor": 2
}
