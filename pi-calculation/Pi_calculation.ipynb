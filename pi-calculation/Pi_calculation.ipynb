{
 "cells": [
  {
   "cell_type": "markdown",
   "metadata": {},
   "source": [
    "# Calculating Pi to the 100th digit\n",
    "***\n",
    "### Graham Byrd \n",
    "### 5/3/2022\n",
    "***\n",
    "\n",
    "I'm going to employ the [Chudnovsky Algorithm](https://en.wikipedia.org/wiki/Chudnovsky_algorithm) to find the 100th digit of pi.\n",
    "\n",
    "This will be done in Python since I wont be working with arrays all that much and just need a for loop and some high precision decimal calculation, offered via the `decimal` library"
   ]
  },
  {
   "cell_type": "code",
   "execution_count": 5,
   "metadata": {},
   "outputs": [],
   "source": [
    "import decimal as dec\n",
    "import math"
   ]
  },
  {
   "cell_type": "markdown",
   "metadata": {},
   "source": [
    "## Doing the Math\n",
    "***\n",
    "Our formula is:\n",
    "\n",
    "${\\displaystyle {\\frac {1}{\\pi }}=12\\sum _{q=0}^{\\infty }{\\frac {(-1)^{q}(6q)!(545140134q+13591409)}{(3q)!(q!)^{3}\\left(640320\\right)^{3q+{\\frac {3}{2}}}}}}$\n",
    "\n",
    "But we will be using what the wikipedia page calls the \"high performance iterative implementation\":\n",
    "\n",
    "${\\displaystyle \\pi =C\\left(\\sum _{q=0}^{\\infty }{\\frac {M_{q}\\cdot L_{q}}{X_{q}}}\\right)^{-1}}$\n",
    "\n",
    "Using the following formulas for $C, M, L,$ and $X$:\n",
    "\n",
    "$ C = 426880\\sqrt{10005}, \\quad M_{q} = \\displaystyle\\frac{(6q)!}{(3q)!(q!)^{3}}, \\quad L_{q} = 545140134q + 13591409, \\quad X_{q} = (-262537412640768000)^{q}$\n"
   ]
  },
  {
   "cell_type": "code",
   "execution_count": 7,
   "metadata": {},
   "outputs": [
    {
     "name": "stdout",
     "output_type": "stream",
     "text": [
      "3.141592653589793238462643383279502884197169399375105820974944592307816406286208998628034825342117067987\n"
     ]
    }
   ],
   "source": [
    "def getpi(prec):\n",
    "    dec.getcontext().prec = prec + 3\n",
    "    # chudnovsky produces about 14 new digits per iteration, so we define the number of\n",
    "    # iterations as the desired precision divided by 14 (rounded up)\n",
    "    q = math.ceil((prec+3) / 14) \n",
    "    C = 426880 * dec.Decimal(10005).sqrt()\n",
    "    X = 1                       # in the formula, this is a big constant to the q, so on iteration 1 (q=0), it is 1.\n",
    "    L = 13591409                    # this one has a added term that is mulitplied by q, so starts as this on iteration 1.\n",
    "    M = 1                       # given by wikipedia article\n",
    "    sigma = dec.Decimal(L)              # starting from iteration 1, so our sum is = to L\n",
    "    for i in range(1,q):            # doing the summation from the wikipedia article\n",
    "        M = math.factorial(6*i) // (math.factorial(3*i) * math.factorial(i)**3)\n",
    "        L += 545140134\n",
    "        X *= -262537412640768000\n",
    "        sigma += dec.Decimal(M*L) / X\n",
    "    pi = C / sigma\n",
    "    return pi\n",
    "        \n",
    "print(getpi(100))\n",
    "\n",
    "# the .txt file is a limit testing file, I decided to let my computer try and calculate 30 000 digits and see how long it took\n",
    "# not too bad, 1 minute 24.4 seconds."
   ]
  }
 ],
 "metadata": {
  "interpreter": {
   "hash": "5e51f9064c7cd35c9a77d8885a872ac61366fd305b9464984d32f59f7f9b649c"
  },
  "kernelspec": {
   "display_name": "Python 3.10.4 64-bit (windows store)",
   "language": "python",
   "name": "python3"
  },
  "language_info": {
   "codemirror_mode": {
    "name": "ipython",
    "version": 3
   },
   "file_extension": ".py",
   "mimetype": "text/x-python",
   "name": "python",
   "nbconvert_exporter": "python",
   "pygments_lexer": "ipython3",
   "version": "3.10.4"
  },
  "orig_nbformat": 4
 },
 "nbformat": 4,
 "nbformat_minor": 2
}
